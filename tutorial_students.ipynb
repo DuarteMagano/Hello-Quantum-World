{
  "cells": [
    {
      "cell_type": "markdown",
      "metadata": {
        "id": "view-in-github",
        "colab_type": "text"
      },
      "source": [
        "<a href=\"https://colab.research.google.com/github/DuarteMagano/Hello-Quantum-World/blob/main/tutorial_students.ipynb\" target=\"_parent\"><img src=\"https://colab.research.google.com/assets/colab-badge.svg\" alt=\"Open In Colab\"/></a>"
      ]
    },
    {
      "cell_type": "code",
      "execution_count": null,
      "metadata": {
        "id": "NDjy-YbQ0WXK"
      },
      "outputs": [],
      "source": [
        "%%capture\n",
        "%pip install qiskit==1.3.2 pylatexenc\n",
        "%pip install qiskit-ibm-runtime==0.35.0\n",
        "# this notebook was tested for qiskit version 1.3.2 and qiskit-ibm-runtime version 0.35.0\n",
        "# be careful when running newer versions"
      ]
    },
    {
      "cell_type": "markdown",
      "metadata": {
        "id": "25eCh_QQR3gQ"
      },
      "source": [
        "# Quantum states"
      ]
    },
    {
      "cell_type": "code",
      "execution_count": null,
      "metadata": {
        "id": "WU6Erc4wRJJn"
      },
      "outputs": [],
      "source": [
        "import numpy as np\n",
        "\n",
        "from qiskit.quantum_info import Statevector\n",
        "from qiskit.visualization import plot_histogram, plot_bloch_multivector"
      ]
    },
    {
      "cell_type": "markdown",
      "metadata": {
        "id": "9CLzs7ZZTTh9"
      },
      "source": [
        "# Quantum operations"
      ]
    },
    {
      "cell_type": "code",
      "execution_count": null,
      "metadata": {
        "id": "b0vGdIX1TmAN"
      },
      "outputs": [],
      "source": [
        "from qiskit.quantum_info import Operator\n",
        "from qiskit.circuit.library import RXGate, CXGate"
      ]
    },
    {
      "cell_type": "markdown",
      "metadata": {
        "id": "F_NuJ433HY53"
      },
      "source": [
        "# Quantum circuits"
      ]
    },
    {
      "cell_type": "code",
      "execution_count": null,
      "metadata": {
        "id": "2CcGFB-7IxIv"
      },
      "outputs": [],
      "source": [
        "from qiskit import QuantumCircuit"
      ]
    },
    {
      "cell_type": "markdown",
      "metadata": {
        "id": "oyI_CObeRQFv"
      },
      "source": [
        "# Sampler primitive"
      ]
    },
    {
      "cell_type": "code",
      "execution_count": null,
      "metadata": {
        "id": "GL1rYb611j7b"
      },
      "outputs": [],
      "source": [
        "from qiskit.primitives import StatevectorSampler\n",
        "from qiskit import QuantumRegister, ClassicalRegister"
      ]
    },
    {
      "cell_type": "markdown",
      "metadata": {
        "id": "c5DXDV14NaTj"
      },
      "source": [
        "# Multiple qubits"
      ]
    },
    {
      "cell_type": "markdown",
      "metadata": {
        "id": "6lNc-IpWNwOo"
      },
      "source": [
        "# Qiskit runtime"
      ]
    },
    {
      "cell_type": "code",
      "execution_count": null,
      "metadata": {
        "id": "a7ihPiJwNxvN"
      },
      "outputs": [],
      "source": [
        "from qiskit_ibm_runtime import QiskitRuntimeService\n",
        "from qiskit_ibm_runtime import SamplerV2\n",
        "\n",
        "from qiskit.transpiler.preset_passmanagers import generate_preset_pass_manager\n",
        "\n",
        "from google.colab import userdata"
      ]
    },
    {
      "cell_type": "code",
      "execution_count": null,
      "metadata": {
        "id": "y8vlg7fNpSNk"
      },
      "outputs": [],
      "source": [
        "TOKEN = userdata.get('TOKEN')\n",
        "service = QiskitRuntimeService(channel=\"ibm_quantum\", token=TOKEN)"
      ]
    },
    {
      "cell_type": "code",
      "execution_count": null,
      "metadata": {
        "id": "bVgKNBicpSNl"
      },
      "outputs": [],
      "source": [
        "backend = service.least_busy(operational=True, simulator=False)\n",
        "print(f\"{backend.name =}, {backend.num_qubits = }\")"
      ]
    },
    {
      "cell_type": "code",
      "execution_count": null,
      "metadata": {
        "id": "lF8jzQ5dpSNl"
      },
      "outputs": [],
      "source": [
        "pass_manager = generate_preset_pass_manager(\n",
        "    backend=backend,\n",
        "    optimization_level=1\n",
        ")"
      ]
    },
    {
      "cell_type": "code",
      "execution_count": null,
      "metadata": {
        "id": "TYI0tfMNpSNl"
      },
      "outputs": [],
      "source": [
        "isa_qc = pass_manager.run(qc)\n",
        "isa_qc.draw('mpl', idle_wires=False)"
      ]
    },
    {
      "cell_type": "code",
      "execution_count": null,
      "metadata": {
        "id": "fpn0eztupSNm"
      },
      "outputs": [],
      "source": [
        "sampler = SamplerV2(backend)"
      ]
    },
    {
      "cell_type": "code",
      "source": [
        "job = sampler.run([isa_qc], shots=128)\n",
        "job.job_id()"
      ],
      "metadata": {
        "id": "vfYw5eObZm6l"
      },
      "execution_count": null,
      "outputs": []
    },
    {
      "cell_type": "code",
      "source": [
        "job.status()"
      ],
      "metadata": {
        "id": "JRSw33OUZo6e"
      },
      "execution_count": null,
      "outputs": []
    },
    {
      "cell_type": "code",
      "source": [
        "results = job.result()[0]\n",
        "counts = results.data.meas.get_counts()"
      ],
      "metadata": {
        "id": "MzyrxptGZqiI"
      },
      "execution_count": null,
      "outputs": []
    },
    {
      "cell_type": "code",
      "source": [
        "plot_histogram(counts)"
      ],
      "metadata": {
        "id": "ZLSSYK3bZrpt"
      },
      "execution_count": null,
      "outputs": []
    },
    {
      "cell_type": "markdown",
      "metadata": {
        "id": "OlhkZsynNyyZ"
      },
      "source": [
        "# My first quantum algorithm"
      ]
    },
    {
      "cell_type": "code",
      "execution_count": null,
      "metadata": {
        "id": "e20O6IWbirJl"
      },
      "outputs": [],
      "source": [
        "def bv_function(s):\n",
        "    \"\"\"\n",
        "    Create a Bernstein-Vazirani function from a string of 1s and 0s.\n",
        "    \"\"\"\n",
        "    qc = QuantumCircuit(QuantumRegister(len(s), 'input'), QuantumRegister(1, 'output'))\n",
        "    for index, bit in enumerate(reversed(s)):\n",
        "        if bit == \"1\":\n",
        "            qc.cx(index, len(s))\n",
        "    return qc"
      ]
    },
    {
      "cell_type": "code",
      "execution_count": null,
      "metadata": {
        "id": "Q4DGgUnXpSNm"
      },
      "outputs": [],
      "source": [
        "def bv_algo(function: QuantumCircuit):\n",
        "    \"\"\"\n",
        "    Compiles a circuit for use in the Deutsch-Jozsa/Bernstein-Vazirani algorithm.\n",
        "    \"\"\"\n",
        "    n = function.num_qubits - 1\n",
        "    qc = QuantumCircuit(n + 1, n)\n",
        "    qc.x(n)\n",
        "    qc.barrier()\n",
        "    qc.h(range(n + 1))\n",
        "    qc.barrier()\n",
        "    qc.barrier()\n",
        "    qc.compose(function, inplace=True)\n",
        "    qc.barrier()\n",
        "    qc.barrier()\n",
        "    qc.h(range(n))\n",
        "    qc.barrier()\n",
        "    qc.measure(range(n), range(n))\n",
        "    return qc"
      ]
    },
    {
      "cell_type": "markdown",
      "metadata": {
        "id": "tXTCGCoSN2PJ"
      },
      "source": [
        "# Variational quantum eigensolver"
      ]
    },
    {
      "cell_type": "code",
      "execution_count": null,
      "metadata": {
        "id": "6C7sjIQGN4Sl"
      },
      "outputs": [],
      "source": [
        "from qiskit.circuit.library import EfficientSU2\n",
        "from qiskit.primitives import StatevectorEstimator\n",
        "from qiskit.quantum_info import SparsePauliOp\n",
        "\n",
        "from scipy.optimize import minimize # SciPy minimizer routine\n",
        "from scipy.linalg import eigh\n",
        "\n",
        "import matplotlib.pyplot as plt"
      ]
    },
    {
      "cell_type": "code",
      "execution_count": null,
      "metadata": {
        "id": "OcyHFaejpSNn"
      },
      "outputs": [],
      "source": [
        "hamiltonian = SparsePauliOp.from_list(\n",
        "    [(\"YZ\", 0.3980), (\"ZI\", -0.3980), (\"ZZ\", -0.0113), (\"XX\", 0.1810)]\n",
        ")\n",
        "hamiltonian.to_operator().draw(\"text\")"
      ]
    },
    {
      "cell_type": "code",
      "execution_count": null,
      "metadata": {
        "id": "_AV_1za3pSNn"
      },
      "outputs": [],
      "source": [
        "ansatz = EfficientSU2(hamiltonian.num_qubits)\n",
        "ansatz.decompose().draw(\"mpl\")"
      ]
    },
    {
      "cell_type": "code",
      "execution_count": null,
      "metadata": {
        "id": "va3GHvqcpSNn"
      },
      "outputs": [],
      "source": [
        "cost_history = {\n",
        "    \"prev_vector\": None,\n",
        "    \"iters\": 0,\n",
        "    \"energy\": [],\n",
        "}\n",
        "\n",
        "def cost_func(params, ansatz, hamiltonian, estimator):\n",
        "\n",
        "    job = estimator.run([(ansatz, [hamiltonian], params)])\n",
        "    result = job.result()[0]\n",
        "    energy = result.data.evs.item()\n",
        "\n",
        "    cost_history[\"iters\"] += 1\n",
        "    cost_history[\"prev_vector\"] = params\n",
        "    cost_history[\"energy\"].append(energy)\n",
        "    print(f\"Iters. done: {cost_history['iters']} [Current cost: {energy}]\")\n",
        "\n",
        "    return energy"
      ]
    },
    {
      "cell_type": "code",
      "execution_count": null,
      "metadata": {
        "id": "pmYgRY1epSNn"
      },
      "outputs": [],
      "source": [
        "params_init = 2 * np.pi * np.random.random(num_params)\n",
        "\n",
        "res = minimize(\n",
        "      cost_func,\n",
        "      params_init,\n",
        "      args=(ansatz, hamiltonian, estimator),\n",
        "      method=\"cobyla\",\n",
        "      options = {\"maxiter\" : 500}\n",
        "  )"
      ]
    }
  ],
  "metadata": {
    "colab": {
      "collapsed_sections": [
        "rAFjElgwRtXQ",
        "25eCh_QQR3gQ",
        "9CLzs7ZZTTh9",
        "oyI_CObeRQFv"
      ],
      "provenance": [],
      "include_colab_link": true
    },
    "kernelspec": {
      "display_name": "Python 3",
      "name": "python3"
    },
    "language_info": {
      "name": "python"
    }
  },
  "nbformat": 4,
  "nbformat_minor": 0
}