{
  "nbformat": 4,
  "nbformat_minor": 0,
  "metadata": {
    "colab": {
      "provenance": [],
      "collapsed_sections": [
        "rAFjElgwRtXQ",
        "25eCh_QQR3gQ",
        "9CLzs7ZZTTh9",
        "oyI_CObeRQFv"
      ],
      "authorship_tag": "ABX9TyO6lBhj+5qo0K/yANx/M5ye",
      "include_colab_link": true
    },
    "kernelspec": {
      "name": "python3",
      "display_name": "Python 3"
    },
    "language_info": {
      "name": "python"
    }
  },
  "cells": [
    {
      "cell_type": "markdown",
      "metadata": {
        "id": "view-in-github",
        "colab_type": "text"
      },
      "source": [
        "<a href=\"https://colab.research.google.com/github/DuarteMagano/Hello-Quantum-World/blob/main/tutorial_students.ipynb\" target=\"_parent\"><img src=\"https://colab.research.google.com/assets/colab-badge.svg\" alt=\"Open In Colab\"/></a>"
      ]
    },
    {
      "cell_type": "code",
      "execution_count": 3,
      "metadata": {
        "id": "NDjy-YbQ0WXK"
      },
      "outputs": [],
      "source": [
        "%%capture\n",
        "%pip install qiskit==1.3.2 pylatexenc\n",
        "%pip install qiskit-ibm-runtime==0.35.0\n",
        "# this notebook was tested for qiskit version 1.3.2 and qiskit-ibm-runtime version 0.35.0\n",
        "# be careful when running newer versions"
      ]
    },
    {
      "cell_type": "markdown",
      "source": [
        "# Quantum states"
      ],
      "metadata": {
        "id": "25eCh_QQR3gQ"
      }
    },
    {
      "cell_type": "code",
      "source": [
        "import numpy as np\n",
        "\n",
        "from qiskit.quantum_info import Statevector\n",
        "from qiskit.visualization import plot_histogram, plot_bloch_multivector"
      ],
      "metadata": {
        "id": "WU6Erc4wRJJn"
      },
      "execution_count": 5,
      "outputs": []
    },
    {
      "cell_type": "markdown",
      "source": [
        "# Quantum operations"
      ],
      "metadata": {
        "id": "9CLzs7ZZTTh9"
      }
    },
    {
      "cell_type": "code",
      "source": [
        "from qiskit.quantum_info import Operator\n",
        "from qiskit.circuit.library import CXGate"
      ],
      "metadata": {
        "id": "b0vGdIX1TmAN"
      },
      "execution_count": 16,
      "outputs": []
    },
    {
      "cell_type": "markdown",
      "source": [
        "# Quantum circuits"
      ],
      "metadata": {
        "id": "F_NuJ433HY53"
      }
    },
    {
      "cell_type": "code",
      "source": [
        "from qiskit import QuantumCircuit"
      ],
      "metadata": {
        "id": "2CcGFB-7IxIv"
      },
      "execution_count": 28,
      "outputs": []
    },
    {
      "cell_type": "markdown",
      "source": [
        "# Sampler primitive"
      ],
      "metadata": {
        "id": "oyI_CObeRQFv"
      }
    },
    {
      "cell_type": "code",
      "source": [
        "from qiskit.primitives import StatevectorSampler\n",
        "from qiskit import QuantumRegister, ClassicalRegister"
      ],
      "metadata": {
        "id": "GL1rYb611j7b"
      },
      "execution_count": 184,
      "outputs": []
    },
    {
      "cell_type": "markdown",
      "source": [
        "# Multiple qubits"
      ],
      "metadata": {
        "id": "c5DXDV14NaTj"
      }
    },
    {
      "cell_type": "markdown",
      "source": [
        "# Qiskit runtime"
      ],
      "metadata": {
        "id": "6lNc-IpWNwOo"
      }
    },
    {
      "cell_type": "code",
      "source": [
        "from qiskit_ibm_runtime import QiskitRuntimeService\n",
        "from qiskit_ibm_runtime import SamplerV2\n",
        "\n",
        "from qiskit.transpiler.preset_passmanagers import generate_preset_pass_manager\n",
        "\n",
        "from google.colab import userdata"
      ],
      "metadata": {
        "id": "a7ihPiJwNxvN"
      },
      "execution_count": null,
      "outputs": []
    },
    {
      "cell_type": "code",
      "source": [
        "# Ligar à conta da IBM\n",
        "from qiskit_ibm_runtime import QiskitRuntimeService\n",
        "from qiskit_ibm_runtime import SamplerV2\n",
        "from google.colab import userdata"
      ],
      "metadata": {
        "id": "X5dd9rZMlapS"
      },
      "execution_count": null,
      "outputs": []
    },
    {
      "cell_type": "markdown",
      "source": [
        "# My first quantum algorithm"
      ],
      "metadata": {
        "id": "OlhkZsynNyyZ"
      }
    },
    {
      "cell_type": "markdown",
      "source": [
        "# Variational quantum eigensolver"
      ],
      "metadata": {
        "id": "tXTCGCoSN2PJ"
      }
    },
    {
      "cell_type": "code",
      "source": [
        "from qiskit.circuit.library import EfficientSU2\n",
        "from qiskit.primitives import StatevectorEstimator\n",
        "from qiskit.quantum_info import SparsePauliOp\n",
        "\n",
        "from scipy.optimize import minimize # SciPy minimizer routine\n",
        "from scipy.linalg import eigh\n",
        "\n",
        "import matplotlib.pyplot as plt"
      ],
      "metadata": {
        "id": "6C7sjIQGN4Sl"
      },
      "execution_count": 98,
      "outputs": []
    },
    {
      "cell_type": "code",
      "source": [],
      "metadata": {
        "id": "e20O6IWbirJl"
      },
      "execution_count": null,
      "outputs": []
    }
  ]
}